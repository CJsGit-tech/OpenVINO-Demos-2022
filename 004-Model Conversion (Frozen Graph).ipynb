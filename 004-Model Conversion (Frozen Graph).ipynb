{
 "cells": [
  {
   "cell_type": "markdown",
   "id": "a7ad622e",
   "metadata": {},
   "source": [
    "## Convert TensorFlow Models to ForzenGraph Representation\n",
    "Ref: https://github.com/tensorflow/models/issues/8966#issuecomment-1017052562"
   ]
  },
  {
   "cell_type": "code",
   "execution_count": 1,
   "id": "9f9db405",
   "metadata": {},
   "outputs": [],
   "source": [
    "import tensorflow as tf"
   ]
  },
  {
   "cell_type": "markdown",
   "id": "a7cc9342",
   "metadata": {},
   "source": [
    "#### Step 1: Load TF Saved Model "
   ]
  },
  {
   "cell_type": "code",
   "execution_count": 2,
   "id": "ee8b2847",
   "metadata": {},
   "outputs": [
    {
     "data": {
      "text/plain": [
       "<tensorflow.python.saved_model.load.Loader._recreate_base_user_object.<locals>._UserObject at 0x21c297155b0>"
      ]
     },
     "execution_count": 2,
     "metadata": {},
     "output_type": "execute_result"
    }
   ],
   "source": [
    "model = tf.saved_model.load('tensorflow_models/ResNet/')\n",
    "model"
   ]
  },
  {
   "cell_type": "markdown",
   "id": "0e41d43f",
   "metadata": {},
   "source": [
    "#### Step 2: Get model's input information"
   ]
  },
  {
   "cell_type": "code",
   "execution_count": 3,
   "id": "3f2083c3",
   "metadata": {},
   "outputs": [
    {
     "name": "stdout",
     "output_type": "stream",
     "text": [
      "Input Data Shape: [None, 224, 224, 3]\n",
      "Input Data Type:  float32\n",
      "Input Name:       input_1:0\n"
     ]
    }
   ],
   "source": [
    "from tensorflow.python.framework.convert_to_constants import convert_variables_to_constants_v2\n",
    "\n",
    "input_resp = model.signatures['serving_default'].inputs[0].shape.as_list()\n",
    "input_dtype = model.signatures['serving_default'].inputs[0].dtype.name\n",
    "input_name = model.signatures['serving_default'].inputs[0].name\n",
    "\n",
    "print(f\"Input Data Shape: {input_resp}\")\n",
    "print(f\"Input Data Type: {input_dtype:>8}\\nInput Name: {input_name:>15}\")"
   ]
  },
  {
   "cell_type": "markdown",
   "id": "714c6df3",
   "metadata": {},
   "source": [
    "#### Step 3: Write to Frozen Graph"
   ]
  },
  {
   "cell_type": "code",
   "execution_count": 4,
   "id": "6824bccf",
   "metadata": {},
   "outputs": [
    {
     "data": {
      "text/plain": [
       "'tensorflow_models/Frozen/saved_model.pb'"
      ]
     },
     "execution_count": 4,
     "metadata": {},
     "output_type": "execute_result"
    }
   ],
   "source": [
    "forzenGraph = tf.function(lambda image: model(image))                                                \n",
    "forzenGraph = forzenGraph.get_concrete_function(tf.TensorSpec(shape = input_resp, \n",
    "                                                              dtype = input_dtype,\n",
    "                                                              name = input_name)) \n",
    "\n",
    "# Call \"\"convert_variables_to_constants_v2\"\"\n",
    "frozenGraph_obj = convert_variables_to_constants_v2(forzenGraph)    \n",
    "\n",
    "# Write Graph\n",
    "tf.io.write_graph(graph_or_graph_def=frozenGraph_obj.graph, \n",
    "                  logdir=\"tensorflow_models/Frozen/\", name=\"saved_model.pb\", as_text=False)"
   ]
  },
  {
   "cell_type": "markdown",
   "id": "b3f27181",
   "metadata": {},
   "source": [
    "## "
   ]
  },
  {
   "cell_type": "markdown",
   "id": "e6667ea5",
   "metadata": {},
   "source": [
    "## "
   ]
  },
  {
   "cell_type": "markdown",
   "id": "d9747147",
   "metadata": {},
   "source": [
    "## Convert to Intermediate Representation Files"
   ]
  },
  {
   "cell_type": "markdown",
   "id": "6119cf69",
   "metadata": {},
   "source": [
    "#### Step 4: Run mo_tf.py from the OpenVINO Toolkit\n",
    "<img src='data/Sample Conversion.png'>"
   ]
  },
  {
   "cell_type": "markdown",
   "id": "fe347271",
   "metadata": {},
   "source": [
    "#### Step 5: Inference with OpenVINO on cats_dogs dataset"
   ]
  },
  {
   "cell_type": "code",
   "execution_count": 5,
   "id": "c039aab7",
   "metadata": {},
   "outputs": [],
   "source": [
    "from openvino.inference_engine import IECore\n",
    "import cv2\n",
    "import numpy as np\n",
    "import matplotlib.pyplot as plt\n",
    "import glob\n",
    "import time"
   ]
  },
  {
   "cell_type": "code",
   "execution_count": 6,
   "id": "2e033f66",
   "metadata": {},
   "outputs": [],
   "source": [
    "def PrepareNetWork(model_xml,model_bin,device):\n",
    "    ie = IECore()\n",
    "    net = ie.read_network(model = model_xml,weights = model_bin)\n",
    "\n",
    "    ####################### Very Important #############################################\n",
    "    # Check to make sure that the plugin has support for all layers in the model\n",
    "    supported_layers = ie.query_network(net,device_name = device)\n",
    "    unsupported_layers = [layer for layer in supported_layers.values() if layer!= device]\n",
    "    if len(unsupported_layers)>0:\n",
    "        raise Exception(f\"Number of unsupported layers {len(unsupported_layers)}\")\n",
    "    ####################################################################################\n",
    "    \n",
    "\n",
    "    exec_net = ie.load_network(network=net, device_name = device)\n",
    "\n",
    "    # Store name of input and output blobs\n",
    "    input_blob = next(iter(net.input_info))\n",
    "    output_blob = next(iter(net.outputs))\n",
    "\n",
    "    # Extract Dimension (n:batch, c:color channel,h: height, w: width )\n",
    "    n, c ,h ,w = net.input_info[input_blob].input_data.shape\n",
    "    print('Extract Model Input Dimension:',n,c,h,w)\n",
    "    \n",
    "    return (input_blob,output_blob), exec_net, (n,c,h,w)"
   ]
  },
  {
   "cell_type": "code",
   "execution_count": 7,
   "id": "69fd4cf5",
   "metadata": {},
   "outputs": [
    {
     "name": "stdout",
     "output_type": "stream",
     "text": [
      "Extract Model Input Dimension: 1 3 224 224\n",
      "Input_name: Placeholder\n",
      "Output_name: StatefulPartitionedCall/StatefulPartitionedCall/StatefulPartitionedCall/dense_1/StatefulPartitionedCall/Softmax\n",
      "OpenVINO Engine: <openvino.inference_engine.ie_api.ExecutableNetwork object at 0x0000021C38D7FDB0>\n"
     ]
    }
   ],
   "source": [
    "# Model Path\n",
    "model_xml = \"tensorflow_models/IR/Cats_Dog.xml\"\n",
    "model_bin = \"tensorflow_models/IR/Cats_Dog.bin\"\n",
    "\n",
    "# Device\n",
    "device = 'CPU' # Options include CPU, GPU, MYRIAD, [HDDL or HETERO] I am not familiar with the last two\n",
    "\n",
    "# Prepare Network\n",
    "inputs_outputs, execution_network, dimensions = PrepareNetWork(model_xml,model_bin,device)\n",
    "\n",
    "# Extract Required Input dimension\n",
    "n,c,h,w = dimensions\n",
    "\n",
    "# Extract input and output names\n",
    "input_blob, output_blob = inputs_outputs\n",
    "\n",
    "# Print Networf Information\n",
    "print(f\"Input_name: {input_blob:>6}\\nOutput_name: {output_blob:>5}\")\n",
    "print(f\"OpenVINO Engine: {execution_network}\")"
   ]
  },
  {
   "cell_type": "code",
   "execution_count": 8,
   "id": "039f0a12",
   "metadata": {},
   "outputs": [],
   "source": [
    "def PrepareInputImage(input_path,n,c,h,w):\n",
    "    \n",
    "    # height width channels\n",
    "    image = cv2.imread(input_path)\n",
    "    \n",
    "    # Resize\n",
    "    in_frame = cv2.resize(image,(w,h)) / 255.0 # Normalize Pixel Values\n",
    "    in_frame = in_frame.transpose((2,0,1)) # Moving color channels to head\n",
    "    in_frame = in_frame.reshape((n,c,h,w))\n",
    "    \n",
    "    return image, in_frame\n",
    "\n",
    "def MakePrediction(execution_network, input_blob, inference_frame):\n",
    "    st_time = time.time()\n",
    "    # Run Inference\n",
    "    result = execution_network.infer(inputs = {input_blob:inference_frame})\n",
    "    \n",
    "    ed_time = time.time()\n",
    "    \n",
    "    \n",
    "    time_sp = ed_time-st_time\n",
    "    FPS = np.round((1/time_sp),4)\n",
    "#     print(f\"FPS: {FPS}\\n\")\n",
    "    \n",
    "    return FPS,result"
   ]
  },
  {
   "cell_type": "code",
   "execution_count": 9,
   "id": "ec2eab19",
   "metadata": {},
   "outputs": [
    {
     "data": {
      "text/plain": [
       "32"
      ]
     },
     "execution_count": 9,
     "metadata": {},
     "output_type": "execute_result"
    }
   ],
   "source": [
    "# Get Cats and Dogs images\n",
    "image_paths = glob.glob('data/images/cats_dogs/*')\n",
    "len(image_paths)"
   ]
  },
  {
   "cell_type": "code",
   "execution_count": 10,
   "id": "418a2488",
   "metadata": {},
   "outputs": [
    {
     "name": "stdout",
     "output_type": "stream",
     "text": [
      "Mean FPS in Sync Mode 84.58 with a time standard deviation 9.45\n"
     ]
    }
   ],
   "source": [
    "preds = []\n",
    "FPS_records = []\n",
    "for path in image_paths:\n",
    "    \n",
    "    _, in_frame = PrepareInputImage(path,n,c,h,w)\n",
    "    FPS,result = MakePrediction(execution_network,input_blob,in_frame)\n",
    "    FPS_records.append(FPS)\n",
    "    preds.append(np.argmax(result[output_blob],axis=1))\n",
    "    \n",
    "print(f\"Mean FPS in Sync Mode {np.round(np.mean(FPS_records),2)} with a time standard deviation {np.round(np.std(FPS_records),2)}\")"
   ]
  },
  {
   "cell_type": "markdown",
   "id": "6852678e",
   "metadata": {},
   "source": [
    "#### Step 6: Accuracy Check"
   ]
  },
  {
   "cell_type": "code",
   "execution_count": 11,
   "id": "f7fb60b1",
   "metadata": {},
   "outputs": [],
   "source": [
    "from sklearn.metrics import confusion_matrix,classification_report,accuracy_score,ConfusionMatrixDisplay"
   ]
  },
  {
   "cell_type": "code",
   "execution_count": 12,
   "id": "a8e1a087",
   "metadata": {},
   "outputs": [],
   "source": [
    "y_true = [0, 1, 1, 0, 0, 0, 1, 0, 0, 0, 1, 0, 0, 1, 0, 0, 0, 1, 0, 0, 0, 0, 0, 0, 0, 0, 0, 1, 0, 1, 0, 0]\n",
    "y_true = np.array(y_true)\n",
    "y_test = np.array(preds).flatten()"
   ]
  },
  {
   "cell_type": "code",
   "execution_count": 13,
   "id": "67a84db8",
   "metadata": {},
   "outputs": [
    {
     "data": {
      "text/plain": [
       "<sklearn.metrics._plot.confusion_matrix.ConfusionMatrixDisplay at 0x21c4d9c29d0>"
      ]
     },
     "execution_count": 13,
     "metadata": {},
     "output_type": "execute_result"
    },
    {
     "data": {
      "image/png": "[encoded data removed]",
      "text/plain": [
       "<Figure size 432x288 with 2 Axes>"
      ]
     },
     "metadata": {
      "needs_background": "light"
     },
     "output_type": "display_data"
    }
   ],
   "source": [
    "cm = confusion_matrix(y_true,y_test)\n",
    "cm_plot = ConfusionMatrixDisplay(cm,display_labels=['Cats','Dogs'])\n",
    "acc = accuracy_score(y_true,y_test) * 100\n",
    "\n",
    "\n",
    "\n",
    "fig, ax = plt.subplots()\n",
    "plt.title(f\"Accuracy Score {acc} %\")\n",
    "cm_plot.plot(cmap='Blues',ax=ax)"
   ]
  },
  {
   "cell_type": "code",
   "execution_count": 14,
   "id": "f05a17b5",
   "metadata": {},
   "outputs": [
    {
     "name": "stdout",
     "output_type": "stream",
     "text": [
      "              precision    recall  f1-score   support\n",
      "\n",
      "           0       0.89      1.00      0.94        24\n",
      "           1       1.00      0.62      0.77         8\n",
      "\n",
      "    accuracy                           0.91        32\n",
      "   macro avg       0.94      0.81      0.86        32\n",
      "weighted avg       0.92      0.91      0.90        32\n",
      "\n"
     ]
    }
   ],
   "source": [
    "print(classification_report(y_true,y_test))"
   ]
  },
  {
   "cell_type": "code",
   "execution_count": null,
   "id": "343cc86a",
   "metadata": {},
   "outputs": [],
   "source": []
  }
 ],
 "metadata": {
  "kernelspec": {
   "display_name": "Python 3 (ipykernel)",
   "language": "python",
   "name": "python3"
  },
  "language_info": {
   "codemirror_mode": {
    "name": "ipython",
    "version": 3
   },
   "file_extension": ".py",
   "mimetype": "text/x-python",
   "name": "python",
   "nbconvert_exporter": "python",
   "pygments_lexer": "ipython3",
   "version": "3.8.8"
  }
 },
 "nbformat": 4,
 "nbformat_minor": 5
}
